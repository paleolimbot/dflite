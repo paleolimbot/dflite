{
 "cells": [
  {
   "cell_type": "markdown",
   "metadata": {},
   "source": [
    "# DFLite: The Quick & Easy DataFrame\n",
    "\n",
    "The data frame was a concept I first came across in R, where it is a fundemental component of data analysis. Never having done much data analysis in Python, I came across a situation where I needed a data frame but didn't know about the `pandas` implementation, so I went about writing my own `DataFrame` class. When I realized the `pandas` version existed, I immediately switched all my code over only to find that for my application, **the pandas DataFrame was over 2 times slower** than my lightweight `DataFrame`. So I spent some time making sure the interfaces were the same (at least in what I was doing) and made some nice 'this is what you would expect' modifications for personal use in the future.\n",
    "\n",
    "In general, the `pandas` data frame performs quite well, especially with large datasets. I'm sure that this class has quite a few holes in it, but the idea of a lightweight `DataFrame` for Python is worth pursuing in the future. You can find the [source code for `dflite`](https://github.com/paleolimbot/dflite) on GitHub, including a copy of this notebook. Here's some general usage.\n",
    "\n",
    "## Importing\n",
    "\n",
    "Importing is easy, the only dependency is `numpy`."
   ]
  },
  {
   "cell_type": "code",
   "execution_count": 1,
   "metadata": {
    "collapsed": true
   },
   "outputs": [],
   "source": [
    "import dflite as df"
   ]
  },
  {
   "cell_type": "markdown",
   "metadata": {},
   "source": [
    "## Creating a DataFrame\n",
    "\n",
    "Usually all I want to do is create a `DataFrame` from a CSV file, but in code there's a couple of other ways to construct the class. The `DataFrame.from_records()` method is probably the most useful, creating a `DataFrame` from an iterable grouped by record (items coming out of a Postgres database via `psycopg2` are a good example). This is more or less equivalent to the `pandas` method of the same name. For now, we'll demo the class with the small CSV included in the directory."
   ]
  },
  {
   "cell_type": "code",
   "execution_count": 2,
   "metadata": {
    "collapsed": false
   },
   "outputs": [
    {
     "data": {
      "text/html": [
       "<table><tr><td></td><td><strong>Time (UTC)</strong></td><td><strong>Latitude</strong></td><td><strong>Longitude</strong></td></tr>\n",
       "<tr><td><strong>0</strong></td><td>2016-03-02 17:50:18</td><td>45.10303743</td><td>-64.29103034</td></tr>\n",
       "<tr><td><strong>1</strong></td><td>2016-03-02 17:50:19</td><td>45.10291441</td><td>-64.29095464</td></tr>\n",
       "<tr><td><strong>2</strong></td><td>2016-03-02 17:50:20</td><td>45.10279595</td><td>-64.29089237</td></tr>\n",
       "<tr><td><strong>3</strong></td><td>2016-03-02 17:50:21</td><td>45.1026838</td><td>-64.29084603</td></tr>\n",
       "<tr><td><strong>4</strong></td><td>2016-03-02 17:50:22</td><td>45.10259138</td><td>-64.29080328</td></tr>\n",
       "<tr><td><strong>5</strong></td><td>2016-03-02 17:50:23</td><td>45.10251977</td><td>-64.29080362</td></tr></table>"
      ],
      "text/plain": [
       "Time (UTC)\tLatitude\tLongitude\n",
       "2016-03-02 17:50:18\t45.10303743\t-64.29103034\n",
       "2016-03-02 17:50:19\t45.10291441\t-64.29095464\n",
       "2016-03-02 17:50:20\t45.10279595\t-64.29089237\n",
       "2016-03-02 17:50:21\t45.1026838\t-64.29084603\n",
       "2016-03-02 17:50:22\t45.10259138\t-64.29080328\n",
       "2016-03-02 17:50:23\t45.10251977\t-64.29080362"
      ]
     },
     "execution_count": 2,
     "metadata": {},
     "output_type": "execute_result"
    }
   ],
   "source": [
    "data = df.read_csv(\"test.csv\")\n",
    "data.head()"
   ]
  },
  {
   "cell_type": "markdown",
   "metadata": {},
   "source": [
    "The `read_csv()` function is pretty much the same as the `pandas` version, at least for simple usage. You can also pass in a file-like object and a `driver=` parameter. Currently only `csv` files are supported, but they're the most common, so hey.\n",
    "\n",
    "The `tail()` method works much the same as the `head()` method."
   ]
  },
  {
   "cell_type": "code",
   "execution_count": 3,
   "metadata": {
    "collapsed": false
   },
   "outputs": [
    {
     "data": {
      "text/html": [
       "<table><tr><td></td><td><strong>Time (UTC)</strong></td><td><strong>Latitude</strong></td><td><strong>Longitude</strong></td></tr>\n",
       "<tr><td><strong>0</strong></td><td>2016-03-02 17:50:54</td><td>45.09937809</td><td>-64.29696471</td></tr>\n",
       "<tr><td><strong>1</strong></td><td>2016-03-02 17:50:55</td><td>45.09924766</td><td>-64.2972626</td></tr>\n",
       "<tr><td><strong>2</strong></td><td>2016-03-02 17:50:56</td><td>45.09911724</td><td>-64.29754859</td></tr></table>"
      ],
      "text/plain": [
       "Time (UTC)\tLatitude\tLongitude\n",
       "2016-03-02 17:50:54\t45.09937809\t-64.29696471\n",
       "2016-03-02 17:50:55\t45.09924766\t-64.2972626\n",
       "2016-03-02 17:50:56\t45.09911724\t-64.29754859"
      ]
     },
     "execution_count": 3,
     "metadata": {},
     "output_type": "execute_result"
    }
   ],
   "source": [
    "data.tail(3)"
   ]
  },
  {
   "cell_type": "markdown",
   "metadata": {},
   "source": [
    "Notice here how the indicies are 0, 1, and 2, where they *should* be the last few indicies of the `DataFrame`. The `pandas.DataFrame` supports (I would argue is slightly obsessed with) thd idea of **index**es for rows/columns. For rows I almost never have a reason to access them by anything other than an integer (certainly not a string), and because of this I don't bother with them. Since `tail()` is basically just checking the `DataFrame`, I didn't bother to re-number the rows (`tail()` is actually just shorthand for `data.iloc[(len(data)-nrows):len(data)])`, so it's really its own `DataFrame` object).\n",
    "\n",
    "## Columns\n",
    "\n",
    "Column names can be accessed and set just like the `pandas` version:"
   ]
  },
  {
   "cell_type": "code",
   "execution_count": 4,
   "metadata": {
    "collapsed": false
   },
   "outputs": [
    {
     "data": {
      "text/plain": [
       "['Time (UTC)', 'Latitude', 'Longitude']"
      ]
     },
     "execution_count": 4,
     "metadata": {},
     "output_type": "execute_result"
    }
   ],
   "source": [
    "data.columns"
   ]
  },
  {
   "cell_type": "code",
   "execution_count": 5,
   "metadata": {
    "collapsed": false
   },
   "outputs": [
    {
     "data": {
      "text/html": [
       "<table><tr><td></td><td><strong>col1</strong></td><td><strong>col2</strong></td><td><strong>col3</strong></td></tr>\n",
       "<tr><td><strong>0</strong></td><td>2016-03-02 17:50:18</td><td>45.10303743</td><td>-64.29103034</td></tr>\n",
       "<tr><td><strong>1</strong></td><td>2016-03-02 17:50:19</td><td>45.10291441</td><td>-64.29095464</td></tr>\n",
       "<tr><td><strong>2</strong></td><td>2016-03-02 17:50:20</td><td>45.10279595</td><td>-64.29089237</td></tr>\n",
       "<tr><td><strong>3</strong></td><td>2016-03-02 17:50:21</td><td>45.1026838</td><td>-64.29084603</td></tr>\n",
       "<tr><td><strong>4</strong></td><td>2016-03-02 17:50:22</td><td>45.10259138</td><td>-64.29080328</td></tr>\n",
       "<tr><td><strong>5</strong></td><td>2016-03-02 17:50:23</td><td>45.10251977</td><td>-64.29080362</td></tr></table>"
      ],
      "text/plain": [
       "col1\tcol2\tcol3\n",
       "2016-03-02 17:50:18\t45.10303743\t-64.29103034\n",
       "2016-03-02 17:50:19\t45.10291441\t-64.29095464\n",
       "2016-03-02 17:50:20\t45.10279595\t-64.29089237\n",
       "2016-03-02 17:50:21\t45.1026838\t-64.29084603\n",
       "2016-03-02 17:50:22\t45.10259138\t-64.29080328\n",
       "2016-03-02 17:50:23\t45.10251977\t-64.29080362"
      ]
     },
     "execution_count": 5,
     "metadata": {},
     "output_type": "execute_result"
    }
   ],
   "source": [
    "data.columns = (\"col1\", \"col2\", \"col3\")\n",
    "data.head()"
   ]
  },
  {
   "cell_type": "markdown",
   "metadata": {},
   "source": [
    "Column values can be added and removed in a similar way"
   ]
  },
  {
   "cell_type": "code",
   "execution_count": 6,
   "metadata": {
    "collapsed": false
   },
   "outputs": [
    {
     "data": {
      "text/plain": [
       "array(['2016-03-02 17:50:18', '2016-03-02 17:50:19', '2016-03-02 17:50:20',\n",
       "       '2016-03-02 17:50:21', '2016-03-02 17:50:22', '2016-03-02 17:50:23',\n",
       "       '2016-03-02 17:50:24', '2016-03-02 17:50:25', '2016-03-02 17:50:26',\n",
       "       '2016-03-02 17:50:27', '2016-03-02 17:50:28', '2016-03-02 17:50:29',\n",
       "       '2016-03-02 17:50:30', '2016-03-02 17:50:31', '2016-03-02 17:50:32',\n",
       "       '2016-03-02 17:50:33', '2016-03-02 17:50:34', '2016-03-02 17:50:35',\n",
       "       '2016-03-02 17:50:36', '2016-03-02 17:50:37', '2016-03-02 17:50:38',\n",
       "       '2016-03-02 17:50:39', '2016-03-02 17:50:40', '2016-03-02 17:50:41',\n",
       "       '2016-03-02 17:50:42', '2016-03-02 17:50:43', '2016-03-02 17:50:44',\n",
       "       '2016-03-02 17:50:45', '2016-03-02 17:50:46', '2016-03-02 17:50:47',\n",
       "       '2016-03-02 17:50:48', '2016-03-02 17:50:49', '2016-03-02 17:50:50',\n",
       "       '2016-03-02 17:50:51', '2016-03-02 17:50:52', '2016-03-02 17:50:53',\n",
       "       '2016-03-02 17:50:54', '2016-03-02 17:50:55', '2016-03-02 17:50:56'], \n",
       "      dtype='<U19')"
      ]
     },
     "execution_count": 6,
     "metadata": {},
     "output_type": "execute_result"
    }
   ],
   "source": [
    "data[\"col1\"]"
   ]
  },
  {
   "cell_type": "markdown",
   "metadata": {},
   "source": [
    "Columns can also be accessed by index (this isn't possible in the `pandas` version, and I'm not quite sure why)"
   ]
  },
  {
   "cell_type": "code",
   "execution_count": 7,
   "metadata": {
    "collapsed": false
   },
   "outputs": [
    {
     "data": {
      "text/plain": [
       "array(['2016-03-02 17:50:18', '2016-03-02 17:50:19', '2016-03-02 17:50:20',\n",
       "       '2016-03-02 17:50:21', '2016-03-02 17:50:22', '2016-03-02 17:50:23',\n",
       "       '2016-03-02 17:50:24', '2016-03-02 17:50:25', '2016-03-02 17:50:26',\n",
       "       '2016-03-02 17:50:27', '2016-03-02 17:50:28', '2016-03-02 17:50:29',\n",
       "       '2016-03-02 17:50:30', '2016-03-02 17:50:31', '2016-03-02 17:50:32',\n",
       "       '2016-03-02 17:50:33', '2016-03-02 17:50:34', '2016-03-02 17:50:35',\n",
       "       '2016-03-02 17:50:36', '2016-03-02 17:50:37', '2016-03-02 17:50:38',\n",
       "       '2016-03-02 17:50:39', '2016-03-02 17:50:40', '2016-03-02 17:50:41',\n",
       "       '2016-03-02 17:50:42', '2016-03-02 17:50:43', '2016-03-02 17:50:44',\n",
       "       '2016-03-02 17:50:45', '2016-03-02 17:50:46', '2016-03-02 17:50:47',\n",
       "       '2016-03-02 17:50:48', '2016-03-02 17:50:49', '2016-03-02 17:50:50',\n",
       "       '2016-03-02 17:50:51', '2016-03-02 17:50:52', '2016-03-02 17:50:53',\n",
       "       '2016-03-02 17:50:54', '2016-03-02 17:50:55', '2016-03-02 17:50:56'], \n",
       "      dtype='<U19')"
      ]
     },
     "execution_count": 7,
     "metadata": {},
     "output_type": "execute_result"
    }
   ],
   "source": [
    "data[0]"
   ]
  },
  {
   "cell_type": "code",
   "execution_count": 8,
   "metadata": {
    "collapsed": false
   },
   "outputs": [
    {
     "data": {
      "text/html": [
       "<table><tr><td></td><td><strong>col1</strong></td><td><strong>col2</strong></td><td><strong>col3</strong></td><td><strong>newcol</strong></td></tr>\n",
       "<tr><td><strong>0</strong></td><td>2016-03-02 17:50:18</td><td>45.10303743</td><td>-64.29103034</td><td>10</td></tr>\n",
       "<tr><td><strong>1</strong></td><td>2016-03-02 17:50:19</td><td>45.10291441</td><td>-64.29095464</td><td>10</td></tr>\n",
       "<tr><td><strong>2</strong></td><td>2016-03-02 17:50:20</td><td>45.10279595</td><td>-64.29089237</td><td>10</td></tr>\n",
       "<tr><td><strong>3</strong></td><td>2016-03-02 17:50:21</td><td>45.1026838</td><td>-64.29084603</td><td>10</td></tr>\n",
       "<tr><td><strong>4</strong></td><td>2016-03-02 17:50:22</td><td>45.10259138</td><td>-64.29080328</td><td>10</td></tr>\n",
       "<tr><td><strong>5</strong></td><td>2016-03-02 17:50:23</td><td>45.10251977</td><td>-64.29080362</td><td>10</td></tr></table>"
      ],
      "text/plain": [
       "col1\tcol2\tcol3\tnewcol\n",
       "2016-03-02 17:50:18\t45.10303743\t-64.29103034\t10\n",
       "2016-03-02 17:50:19\t45.10291441\t-64.29095464\t10\n",
       "2016-03-02 17:50:20\t45.10279595\t-64.29089237\t10\n",
       "2016-03-02 17:50:21\t45.1026838\t-64.29084603\t10\n",
       "2016-03-02 17:50:22\t45.10259138\t-64.29080328\t10\n",
       "2016-03-02 17:50:23\t45.10251977\t-64.29080362\t10"
      ]
     },
     "execution_count": 8,
     "metadata": {},
     "output_type": "execute_result"
    }
   ],
   "source": [
    "data[\"newcol\"] = 10\n",
    "data.head()"
   ]
  },
  {
   "cell_type": "code",
   "execution_count": 9,
   "metadata": {
    "collapsed": false
   },
   "outputs": [
    {
     "data": {
      "text/html": [
       "<table><tr><td></td><td><strong>col1</strong></td><td><strong>col2</strong></td><td><strong>col3</strong></td><td><strong>newcol</strong></td></tr>\n",
       "<tr><td><strong>0</strong></td><td>2016-03-02 17:50:18</td><td>45.10303743</td><td>-64.29103034</td><td>14</td></tr>\n",
       "<tr><td><strong>1</strong></td><td>2016-03-02 17:50:19</td><td>45.10291441</td><td>-64.29095464</td><td>14</td></tr>\n",
       "<tr><td><strong>2</strong></td><td>2016-03-02 17:50:20</td><td>45.10279595</td><td>-64.29089237</td><td>14</td></tr>\n",
       "<tr><td><strong>3</strong></td><td>2016-03-02 17:50:21</td><td>45.1026838</td><td>-64.29084603</td><td>14</td></tr>\n",
       "<tr><td><strong>4</strong></td><td>2016-03-02 17:50:22</td><td>45.10259138</td><td>-64.29080328</td><td>14</td></tr>\n",
       "<tr><td><strong>5</strong></td><td>2016-03-02 17:50:23</td><td>45.10251977</td><td>-64.29080362</td><td>14</td></tr></table>"
      ],
      "text/plain": [
       "col1\tcol2\tcol3\tnewcol\n",
       "2016-03-02 17:50:18\t45.10303743\t-64.29103034\t14\n",
       "2016-03-02 17:50:19\t45.10291441\t-64.29095464\t14\n",
       "2016-03-02 17:50:20\t45.10279595\t-64.29089237\t14\n",
       "2016-03-02 17:50:21\t45.1026838\t-64.29084603\t14\n",
       "2016-03-02 17:50:22\t45.10259138\t-64.29080328\t14\n",
       "2016-03-02 17:50:23\t45.10251977\t-64.29080362\t14"
      ]
     },
     "execution_count": 9,
     "metadata": {},
     "output_type": "execute_result"
    }
   ],
   "source": [
    "data[\"newcol\"] = data[\"newcol\"] + 4\n",
    "data.head()"
   ]
  },
  {
   "cell_type": "code",
   "execution_count": 10,
   "metadata": {
    "collapsed": false
   },
   "outputs": [
    {
     "data": {
      "text/html": [
       "<table><tr><td></td><td><strong>col1</strong></td><td><strong>col2</strong></td><td><strong>col3</strong></td></tr>\n",
       "<tr><td><strong>0</strong></td><td>2016-03-02 17:50:18</td><td>45.10303743</td><td>-64.29103034</td></tr>\n",
       "<tr><td><strong>1</strong></td><td>2016-03-02 17:50:19</td><td>45.10291441</td><td>-64.29095464</td></tr>\n",
       "<tr><td><strong>2</strong></td><td>2016-03-02 17:50:20</td><td>45.10279595</td><td>-64.29089237</td></tr>\n",
       "<tr><td><strong>3</strong></td><td>2016-03-02 17:50:21</td><td>45.1026838</td><td>-64.29084603</td></tr>\n",
       "<tr><td><strong>4</strong></td><td>2016-03-02 17:50:22</td><td>45.10259138</td><td>-64.29080328</td></tr>\n",
       "<tr><td><strong>5</strong></td><td>2016-03-02 17:50:23</td><td>45.10251977</td><td>-64.29080362</td></tr></table>"
      ],
      "text/plain": [
       "col1\tcol2\tcol3\n",
       "2016-03-02 17:50:18\t45.10303743\t-64.29103034\n",
       "2016-03-02 17:50:19\t45.10291441\t-64.29095464\n",
       "2016-03-02 17:50:20\t45.10279595\t-64.29089237\n",
       "2016-03-02 17:50:21\t45.1026838\t-64.29084603\n",
       "2016-03-02 17:50:22\t45.10259138\t-64.29080328\n",
       "2016-03-02 17:50:23\t45.10251977\t-64.29080362"
      ]
     },
     "execution_count": 10,
     "metadata": {},
     "output_type": "execute_result"
    }
   ],
   "source": [
    "del data[\"newcol\"]\n",
    "data.head()"
   ]
  },
  {
   "cell_type": "markdown",
   "metadata": {},
   "source": [
    "## Rows\n",
    "\n",
    "In `pandas`, rows are accessed through the `iloc` attribute, so after considerable changing of code, so does mine. Here, `data.iloc[3]` will give the fourth row (as a `dict` ish object), and `data.iloc[3, :]` will give a `DataFrame` with only one row. The `pandas` version also has a `loc[]` option where names can be specified, but in this implementation `iloc` and `loc` are identical, and so you can pass more or less anything between the brackets and get a sensible result. "
   ]
  },
  {
   "cell_type": "code",
   "execution_count": 11,
   "metadata": {
    "collapsed": false
   },
   "outputs": [
    {
     "data": {
      "text/html": [
       "<table><tr><td><strong>col1</strong></td><td><strong>col2</strong></td><td><strong>col3</strong></td></tr><tr><td>2016-03-02 17:50:21</td><td>45.1026838</td><td>-64.29084603</td></tr></table>"
      ],
      "text/plain": [
       "{'col1': '2016-03-02 17:50:21',\n",
       " 'col2': 45.102683800000001,\n",
       " 'col3': -64.290846029999997}"
      ]
     },
     "execution_count": 11,
     "metadata": {},
     "output_type": "execute_result"
    }
   ],
   "source": [
    "row = data.iloc[3]\n",
    "row"
   ]
  },
  {
   "cell_type": "markdown",
   "metadata": {},
   "source": [
    "Of course, I've made the nice `_repr_html_()` method so it displas nicely but each row is actually a `_DFRow` object, which is a subclass of `dict` that keeps its values in order. This means you can index it by column name or by index."
   ]
  },
  {
   "cell_type": "code",
   "execution_count": 12,
   "metadata": {
    "collapsed": false
   },
   "outputs": [
    {
     "data": {
      "text/plain": [
       "'2016-03-02 17:50:21'"
      ]
     },
     "execution_count": 12,
     "metadata": {},
     "output_type": "execute_result"
    }
   ],
   "source": [
    "row[\"col1\"]"
   ]
  },
  {
   "cell_type": "code",
   "execution_count": 13,
   "metadata": {
    "collapsed": false
   },
   "outputs": [
    {
     "data": {
      "text/plain": [
       "'2016-03-02 17:50:21'"
      ]
     },
     "execution_count": 13,
     "metadata": {},
     "output_type": "execute_result"
    }
   ],
   "source": [
    "row[0]"
   ]
  },
  {
   "cell_type": "markdown",
   "metadata": {},
   "source": [
    "Iterating through rows is done using the `itertuples()` method, which returns an iterator that iterates through the rows in the same way as the `pandas` version. Because `pandas` returns its row with the `0`th item as the row number (or row *index*, if you believe in that kind of thing), this method does as well."
   ]
  },
  {
   "cell_type": "code",
   "execution_count": 14,
   "metadata": {
    "collapsed": false
   },
   "outputs": [
    {
     "name": "stdout",
     "output_type": "stream",
     "text": [
      "0 45.10303743 2016-03-02 17:50:18\n",
      "1 45.10291441 2016-03-02 17:50:19\n",
      "2 45.10279595 2016-03-02 17:50:20\n",
      "3 45.1026838 2016-03-02 17:50:21\n",
      "4 45.10259138 2016-03-02 17:50:22\n",
      "5 45.10251977 2016-03-02 17:50:23\n"
     ]
    }
   ],
   "source": [
    "for row in data.head().itertuples():\n",
    "    print(row[0], row[\"col2\"], row[1])"
   ]
  },
  {
   "cell_type": "markdown",
   "metadata": {},
   "source": [
    "## Subsetting\n",
    "\n",
    "Each column is a NumPy `ndarray` object, so it can be indexed like any other `ndarray` object (i.e. by a `list` of desired rows, by an `ndarray` of logicals, by a single index, or by a `slice`). Some of this notation is available in the `iloc` method as well, which returns a single value (if two `int`s are passed), a `_DFRow` (if only a single integer is passed), or a subsetted `DataFrame` (if some combination of slices/ints/lists is passed). See the following examples:"
   ]
  },
  {
   "cell_type": "code",
   "execution_count": 15,
   "metadata": {
    "collapsed": false
   },
   "outputs": [
    {
     "data": {
      "text/html": [
       "<table><tr><td></td><td><strong>col1</strong></td><td><strong>col2</strong></td><td><strong>col3</strong></td></tr>\n",
       "<tr><td><strong>0</strong></td><td>2016-03-02 17:50:19</td><td>45.10291441</td><td>-64.29095464</td></tr>\n",
       "<tr><td><strong>1</strong></td><td>2016-03-02 17:50:20</td><td>45.10279595</td><td>-64.29089237</td></tr></table>"
      ],
      "text/plain": [
       "col1\tcol2\tcol3\n",
       "2016-03-02 17:50:19\t45.10291441\t-64.29095464\n",
       "2016-03-02 17:50:20\t45.10279595\t-64.29089237"
      ]
     },
     "execution_count": 15,
     "metadata": {},
     "output_type": "execute_result"
    }
   ],
   "source": [
    "data.iloc[1:3]"
   ]
  },
  {
   "cell_type": "code",
   "execution_count": 16,
   "metadata": {
    "collapsed": false
   },
   "outputs": [
    {
     "data": {
      "text/html": [
       "<table><tr><td></td><td><strong>col1</strong></td><td><strong>col2</strong></td></tr>\n",
       "<tr><td><strong>0</strong></td><td>2016-03-02 17:50:19</td><td>45.10291441</td></tr>\n",
       "<tr><td><strong>1</strong></td><td>2016-03-02 17:50:20</td><td>45.10279595</td></tr>\n",
       "<tr><td><strong>2</strong></td><td>2016-03-02 17:50:21</td><td>45.1026838</td></tr>\n",
       "<tr><td><strong>3</strong></td><td>2016-03-02 17:50:22</td><td>45.10259138</td></tr></table>"
      ],
      "text/plain": [
       "col1\tcol2\n",
       "2016-03-02 17:50:19\t45.10291441\n",
       "2016-03-02 17:50:20\t45.10279595\n",
       "2016-03-02 17:50:21\t45.1026838\n",
       "2016-03-02 17:50:22\t45.10259138"
      ]
     },
     "execution_count": 16,
     "metadata": {},
     "output_type": "execute_result"
    }
   ],
   "source": [
    "data.iloc[1:5, 0:2]"
   ]
  },
  {
   "cell_type": "code",
   "execution_count": 17,
   "metadata": {
    "collapsed": false
   },
   "outputs": [
    {
     "data": {
      "text/html": [
       "<table><tr><td></td><td><strong>col1</strong></td><td><strong>col3</strong></td></tr>\n",
       "<tr><td><strong>0</strong></td><td>2016-03-02 17:50:20</td><td>-64.29089237</td></tr>\n",
       "<tr><td><strong>1</strong></td><td>2016-03-02 17:50:23</td><td>-64.29080362</td></tr>\n",
       "<tr><td><strong>2</strong></td><td>2016-03-02 17:50:23</td><td>-64.29080362</td></tr>\n",
       "<tr><td><strong>3</strong></td><td>2016-03-02 17:50:51</td><td>-64.29613321</td></tr></table>"
      ],
      "text/plain": [
       "col1\tcol3\n",
       "2016-03-02 17:50:20\t-64.29089237\n",
       "2016-03-02 17:50:23\t-64.29080362\n",
       "2016-03-02 17:50:23\t-64.29080362\n",
       "2016-03-02 17:50:51\t-64.29613321"
      ]
     },
     "execution_count": 17,
     "metadata": {},
     "output_type": "execute_result"
    }
   ],
   "source": [
    "data.iloc[[2, 5, 5, 33], (\"col1\", \"col3\")]"
   ]
  },
  {
   "cell_type": "markdown",
   "metadata": {},
   "source": [
    "Notice again how our original row number aren't preserved. You can work around this by making a column with your original row numbers. I get how this could be annoying, but including it was too complicated and wasn't necessary for what I was doing."
   ]
  },
  {
   "cell_type": "code",
   "execution_count": 18,
   "metadata": {
    "collapsed": false
   },
   "outputs": [
    {
     "data": {
      "text/html": [
       "<table><tr><td></td><td><strong>original_rows</strong></td><td><strong>col1</strong></td><td><strong>col3</strong></td></tr>\n",
       "<tr><td><strong>0</strong></td><td>2</td><td>2016-03-02 17:50:20</td><td>-64.29089237</td></tr>\n",
       "<tr><td><strong>1</strong></td><td>5</td><td>2016-03-02 17:50:23</td><td>-64.29080362</td></tr>\n",
       "<tr><td><strong>2</strong></td><td>5</td><td>2016-03-02 17:50:23</td><td>-64.29080362</td></tr>\n",
       "<tr><td><strong>3</strong></td><td>33</td><td>2016-03-02 17:50:51</td><td>-64.29613321</td></tr></table>"
      ],
      "text/plain": [
       "original_rows\tcol1\tcol3\n",
       "2\t2016-03-02 17:50:20\t-64.29089237\n",
       "5\t2016-03-02 17:50:23\t-64.29080362\n",
       "5\t2016-03-02 17:50:23\t-64.29080362\n",
       "33\t2016-03-02 17:50:51\t-64.29613321"
      ]
     },
     "execution_count": 18,
     "metadata": {},
     "output_type": "execute_result"
    }
   ],
   "source": [
    "data[\"original_rows\"] = list(range(len(data)))\n",
    "data.iloc[[2, 5, 5, 33], (\"original_rows\", \"col1\", \"col3\")]"
   ]
  },
  {
   "cell_type": "markdown",
   "metadata": {},
   "source": [
    "All of the nice indexing things we can do with NumPy are also available in the 'rows' part of the index:"
   ]
  },
  {
   "cell_type": "code",
   "execution_count": 19,
   "metadata": {
    "collapsed": false
   },
   "outputs": [
    {
     "data": {
      "text/html": [
       "<table><tr><td></td><td><strong>col1</strong></td><td><strong>col2</strong></td><td><strong>col3</strong></td><td><strong>original_rows</strong></td></tr>\n",
       "<tr><td><strong>0</strong></td><td>2016-03-02 17:50:18</td><td>45.10303743</td><td>-64.29103034</td><td>0</td></tr>\n",
       "<tr><td><strong>1</strong></td><td>2016-03-02 17:50:19</td><td>45.10291441</td><td>-64.29095464</td><td>1</td></tr>\n",
       "<tr><td><strong>2</strong></td><td>2016-03-02 17:50:20</td><td>45.10279595</td><td>-64.29089237</td><td>2</td></tr>\n",
       "<tr><td><strong>3</strong></td><td>2016-03-02 17:50:21</td><td>45.1026838</td><td>-64.29084603</td><td>3</td></tr>\n",
       "<tr><td><strong>4</strong></td><td>2016-03-02 17:50:22</td><td>45.10259138</td><td>-64.29080328</td><td>4</td></tr>\n",
       "<tr><td><strong>5</strong></td><td>2016-03-02 17:50:23</td><td>45.10251977</td><td>-64.29080362</td><td>5</td></tr>\n",
       "<tr><td><strong>6</strong></td><td>2016-03-02 17:50:24</td><td>45.10245523</td><td>-64.29083152</td><td>6</td></tr>\n",
       "<tr><td><strong>7</strong></td><td>2016-03-02 17:50:25</td><td>45.10240112</td><td>-64.29086638</td><td>7</td></tr>\n",
       "<tr><td><strong>8</strong></td><td>2016-03-02 17:50:26</td><td>45.10233343</td><td>-64.2909347</td><td>8</td></tr>\n",
       "<tr><td><strong>9</strong></td><td>2016-03-02 17:50:27</td><td>45.10227411</td><td>-64.29102036</td><td>9</td></tr>\n",
       "<tr><td><strong>10</strong></td><td>2016-03-02 17:50:28</td><td>45.1022154</td><td>-64.29111654</td><td>10</td></tr></table>"
      ],
      "text/plain": [
       "col1\tcol2\tcol3\toriginal_rows\n",
       "2016-03-02 17:50:18\t45.10303743\t-64.29103034\t0\n",
       "2016-03-02 17:50:19\t45.10291441\t-64.29095464\t1\n",
       "2016-03-02 17:50:20\t45.10279595\t-64.29089237\t2\n",
       "2016-03-02 17:50:21\t45.1026838\t-64.29084603\t3\n",
       "2016-03-02 17:50:22\t45.10259138\t-64.29080328\t4\n",
       "2016-03-02 17:50:23\t45.10251977\t-64.29080362\t5\n",
       "2016-03-02 17:50:24\t45.10245523\t-64.29083152\t6\n",
       "2016-03-02 17:50:25\t45.10240112\t-64.29086638\t7\n",
       "2016-03-02 17:50:26\t45.10233343\t-64.2909347\t8\n",
       "2016-03-02 17:50:27\t45.10227411\t-64.29102036\t9\n",
       "2016-03-02 17:50:28\t45.1022154\t-64.29111654\t10"
      ]
     },
     "execution_count": 19,
     "metadata": {},
     "output_type": "execute_result"
    }
   ],
   "source": [
    "data.iloc[data[\"col2\"] > 45.1022]"
   ]
  },
  {
   "cell_type": "markdown",
   "metadata": {},
   "source": [
    "## Exporting\n",
    "\n",
    "Writing the `DataFrame` to a CSV is probably the easiest way to export, although TSV is also supported. The `to_csv()` method works more or less like the `pandas` version, and can take a file-like object as well as a filename.\n",
    "\n",
    "## Performance\n",
    "\n",
    "As I mentioned earlier, running the `pandas.DataFrame` in production code that used quite a lot of `DataFrame`s was quite slow. I have a feeling that there's a lot of overhead involved with the convenience of multiple indexing and built-in plotting support that slows the class down when there isn't a need for it. There's also probably a lot of work to be done on this class that can add convenience without comprimising performance, but I'll leave that up to some folks with a bit more spare time than I do. Cheers!"
   ]
  }
 ],
 "metadata": {
  "kernelspec": {
   "display_name": "Python 3",
   "language": "python",
   "name": "python3"
  },
  "language_info": {
   "codemirror_mode": {
    "name": "ipython",
    "version": 3
   },
   "file_extension": ".py",
   "mimetype": "text/x-python",
   "name": "python",
   "nbconvert_exporter": "python",
   "pygments_lexer": "ipython3",
   "version": "3.4.2"
  }
 },
 "nbformat": 4,
 "nbformat_minor": 0
}
